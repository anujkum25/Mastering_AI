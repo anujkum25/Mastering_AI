{
 "cells": [
  {
   "cell_type": "markdown",
   "id": "6b51b668",
   "metadata": {},
   "source": [
    "## Goal: Get comfortable with PyTorch, re-implement basic models, prep for Transformers.\n",
    "\n",
    "*Week 1*\n",
    "\n",
    "- PyTorch crash course: tensors, autograd, optimizers\n",
    "- Implement: Linear regression + logistic regression from scratch\n",
    "- Mini-project: Train a 2-layer MLP on MNIST\n"
   ]
  },
  {
   "cell_type": "code",
   "execution_count": null,
   "id": "de19697b",
   "metadata": {
    "vscode": {
     "languageId": "plaintext"
    }
   },
   "outputs": [],
   "source": []
  },
  {
   "cell_type": "code",
   "execution_count": null,
   "id": "69ddfae8",
   "metadata": {
    "vscode": {
     "languageId": "plaintext"
    }
   },
   "outputs": [],
   "source": []
  },
  {
   "cell_type": "code",
   "execution_count": null,
   "id": "50c89c40",
   "metadata": {
    "vscode": {
     "languageId": "plaintext"
    }
   },
   "outputs": [],
   "source": []
  },
  {
   "cell_type": "code",
   "execution_count": null,
   "id": "3ea50957",
   "metadata": {
    "vscode": {
     "languageId": "plaintext"
    }
   },
   "outputs": [],
   "source": []
  }
 ],
 "metadata": {
  "language_info": {
   "name": "python"
  }
 },
 "nbformat": 4,
 "nbformat_minor": 5
}
